{
 "cells":[
  {
   "cell_type":"markdown",
   "source":[
    "# String \n",
    "String is data type that stores a sequence of characters.\n",
    "\n",
    "## Basic Operations\n",
    "- **Concatenation** \n",
    "\n",
    "        \"hello\" + \"world\" ---> \"helloworld\"\n",
    "\n",
    "- **Length of str**\n",
    "\n",
    "        len(str)"
   ],
   "attachments":{
    
   },
   "metadata":{
    "datalore":{
     "node_id":"AELWGuYQsdAbfmFQsueMle",
     "type":"MD",
     "hide_input_from_viewers":true,
     "hide_output_from_viewers":true
    }
   }
  },
  {
   "cell_type":"code",
   "source":[
    "str1 = \"This is a string.\"\n",
    "str2 = 'apna college'\n",
    "str3 = ''' this is a string'''"
   ],
   "execution_count":1,
   "outputs":[
    
   ],
   "metadata":{
    "datalore":{
     "node_id":"2ScLnO4uaQ5TiszWTEwD95",
     "type":"CODE",
     "hide_input_from_viewers":true,
     "hide_output_from_viewers":true
    }
   }
  },
  {
   "cell_type":"code",
   "source":[
    "str1 = \"This is a string.\\nwe creating it in python.\"\n",
    "print(str1)"
   ],
   "execution_count":6,
   "outputs":[
    {
     "name":"stdout",
     "text":[
      "This is a string.\n",
      "we creating it in python.\n"
     ],
     "output_type":"stream"
    }
   ],
   "metadata":{
    "datalore":{
     "node_id":"XNtBVi1ZOSac1BbYFDC0Qn",
     "type":"CODE",
     "hide_input_from_viewers":true,
     "hide_output_from_viewers":true
    }
   }
  },
  {
   "cell_type":"code",
   "source":[
    "str1 = \"This is a string.\\twe creating it in python.\"\n",
    "print(str1)"
   ],
   "execution_count":7,
   "outputs":[
    {
     "name":"stdout",
     "text":[
      "This is a string.\twe creating it in python.\n"
     ],
     "output_type":"stream"
    }
   ],
   "metadata":{
    "datalore":{
     "node_id":"8MKQxY6pYjs8agRBcAN92Q",
     "type":"CODE",
     "hide_input_from_viewers":true,
     "hide_output_from_viewers":true
    }
   }
  },
  {
   "cell_type":"code",
   "source":[
    "str1 = \"apna\"\n",
    "str2 = \"college\"\n",
    "\n",
    "final_string = str1 + str2\n",
    "print(final_string)"
   ],
   "execution_count":8,
   "outputs":[
    {
     "name":"stdout",
     "text":[
      "apnacollege\n"
     ],
     "output_type":"stream"
    }
   ],
   "metadata":{
    "datalore":{
     "node_id":"4RgJviNJ9FEF5Y2Udk7g7v",
     "type":"CODE",
     "hide_input_from_viewers":true,
     "hide_output_from_viewers":true
    }
   }
  },
  {
   "cell_type":"markdown",
   "source":[
    "**- length of str**\n",
    "\n",
    "len(str)"
   ],
   "attachments":{
    
   },
   "metadata":{
    "datalore":{
     "node_id":"7vc8RUUusmhZUebEL7FFRG",
     "type":"MD",
     "hide_input_from_viewers":true,
     "hide_output_from_viewers":true
    }
   }
  },
  {
   "cell_type":"code",
   "source":[
    "len(str1)"
   ],
   "execution_count":9,
   "outputs":[
    {
     "data":{
      "text\/plain":[
       "4"
      ]
     },
     "metadata":{
      
     },
     "output_type":"display_data"
    }
   ],
   "metadata":{
    "datalore":{
     "node_id":"DZa8yiG3gZUUPR40dqrCJg",
     "type":"CODE",
     "hide_input_from_viewers":true,
     "hide_output_from_viewers":true
    }
   }
  },
  {
   "cell_type":"code",
   "source":[
    "str1 = \"apna\"\n",
    "str2 = \"college\"\n",
    "\n",
    "final_string = str1 +\" \"+ str2\n",
    "print(final_string)"
   ],
   "execution_count":10,
   "outputs":[
    {
     "name":"stdout",
     "text":[
      "apna college\n"
     ],
     "output_type":"stream"
    }
   ],
   "metadata":{
    "datalore":{
     "node_id":"uFBLehKruHYRCAo5ehLDEA",
     "type":"CODE",
     "hide_input_from_viewers":true,
     "hide_output_from_viewers":true
    }
   }
  },
  {
   "cell_type":"code",
   "source":[
    "len(final_string)"
   ],
   "execution_count":11,
   "outputs":[
    {
     "data":{
      "text\/plain":[
       "12"
      ]
     },
     "metadata":{
      
     },
     "output_type":"display_data"
    }
   ],
   "metadata":{
    "datalore":{
     "node_id":"32HK23T4OjqwkVsKsmSpcp",
     "type":"CODE",
     "hide_input_from_viewers":true,
     "hide_output_from_viewers":true
    }
   }
  },
  {
   "cell_type":"markdown",
   "source":[
    "## Indexing"
   ],
   "attachments":{
    
   },
   "metadata":{
    "datalore":{
     "node_id":"kTksCv7jHpdCuFVcT1K50i",
     "type":"MD",
     "hide_input_from_viewers":true,
     "hide_output_from_viewers":true
    }
   }
  },
  {
   "cell_type":"code",
   "source":[
    "str = \"apna college\"\n",
    "\n",
    "ch = str[0]\n",
    "\n",
    "print(ch)"
   ],
   "execution_count":13,
   "outputs":[
    {
     "name":"stdout",
     "text":[
      "a\n"
     ],
     "output_type":"stream"
    }
   ],
   "metadata":{
    "datalore":{
     "node_id":"KRlhaoUJsQ0wvY1E2i4xnO",
     "type":"CODE",
     "hide_input_from_viewers":true,
     "hide_output_from_viewers":true
    }
   }
  },
  {
   "cell_type":"markdown",
   "source":[
    "# Slicing\n",
    "\n",
    "**Accessing parts of a string**\n",
    "str[starting_idx : ending_idx] # ending idx is not included "
   ],
   "attachments":{
    
   },
   "metadata":{
    "datalore":{
     "node_id":"TgEzWod6XFSZryE6uAo2hH",
     "type":"MD",
     "hide_input_from_viewers":true,
     "hide_output_from_viewers":true
    }
   }
  },
  {
   "cell_type":"code",
   "source":[
    "str = \"apna college\"\n",
    "\n",
    "print(str[0:5])"
   ],
   "execution_count":15,
   "outputs":[
    {
     "name":"stdout",
     "text":[
      "apna \n"
     ],
     "output_type":"stream"
    }
   ],
   "metadata":{
    "datalore":{
     "node_id":"7DWsHwEFP2Y0KITg1oFtcr",
     "type":"CODE",
     "hide_input_from_viewers":true,
     "hide_output_from_viewers":true
    }
   }
  },
  {
   "cell_type":"code",
   "source":[
    "str = \"apple\"\n",
    "\n",
    "print(str[-5:-2])"
   ],
   "execution_count":16,
   "outputs":[
    {
     "name":"stdout",
     "text":[
      "app\n"
     ],
     "output_type":"stream"
    }
   ],
   "metadata":{
    "datalore":{
     "node_id":"HfeK6YpAbxHnVKigjukiP0",
     "type":"CODE",
     "hide_input_from_viewers":true,
     "hide_output_from_viewers":true
    }
   }
  },
  {
   "cell_type":"markdown",
   "source":[
    "# String Functions"
   ],
   "attachments":{
    
   },
   "metadata":{
    "datalore":{
     "node_id":"BFMFf1BJuAMtKBiHFWj6RJ",
     "type":"MD",
     "hide_input_from_viewers":true,
     "hide_output_from_viewers":true
    }
   }
  },
  {
   "cell_type":"code",
   "source":[
    "str = \"i am studying python from ApnaCollege\""
   ],
   "execution_count":25,
   "outputs":[
    
   ],
   "metadata":{
    "datalore":{
     "node_id":"hf0enlAxfaMENkJb6v8UdT",
     "type":"CODE",
     "hide_input_from_viewers":true,
     "hide_output_from_viewers":true
    }
   }
  },
  {
   "cell_type":"code",
   "source":[
    "str.endswith(\"er.\")  # returens true if string ends with substr"
   ],
   "execution_count":26,
   "outputs":[
    {
     "data":{
      "text\/plain":[
       "False"
      ]
     },
     "metadata":{
      
     },
     "output_type":"display_data"
    }
   ],
   "metadata":{
    "datalore":{
     "node_id":"a0E3DqYAMnIiIpChD1SpIn",
     "type":"CODE",
     "hide_input_from_viewers":true,
     "hide_output_from_viewers":true
    }
   }
  },
  {
   "cell_type":"code",
   "source":[
    "str.capitalize()  # capitalize 1st char"
   ],
   "execution_count":27,
   "outputs":[
    {
     "data":{
      "text\/plain":[
       "'I am studying python from apnacollege'"
      ]
     },
     "metadata":{
      
     },
     "output_type":"display_data"
    }
   ],
   "metadata":{
    "datalore":{
     "node_id":"KMdirBCJhYzwRuSmVEUwWj",
     "type":"CODE",
     "hide_input_from_viewers":true,
     "hide_output_from_viewers":true
    }
   }
  },
  {
   "cell_type":"code",
   "source":[
    "str.replace(\"python\",\"javascript\") # replace all occurrences of old"
   ],
   "execution_count":29,
   "outputs":[
    {
     "data":{
      "text\/plain":[
       "'i am studying javascript from ApnaCollege'"
      ]
     },
     "metadata":{
      
     },
     "output_type":"display_data"
    }
   ],
   "metadata":{
    "datalore":{
     "node_id":"2aeExKCfFERgX3DflPCemK",
     "type":"CODE",
     "hide_input_from_viewers":true,
     "hide_output_from_viewers":true
    }
   }
  },
  {
   "cell_type":"code",
   "source":[
    "str.find(\"am\") # returuns 1st index of 1st occurrer"
   ],
   "execution_count":33,
   "outputs":[
    {
     "data":{
      "text\/plain":[
       "2"
      ]
     },
     "metadata":{
      
     },
     "output_type":"display_data"
    }
   ],
   "metadata":{
    "datalore":{
     "node_id":"0oZiS76nsQusfPcN4uYwdJ",
     "type":"CODE",
     "hide_input_from_viewers":true,
     "hide_output_from_viewers":true
    }
   }
  },
  {
   "cell_type":"code",
   "source":[
    "str.count(\"from\")  # count trhe occurrence of substr"
   ],
   "execution_count":35,
   "outputs":[
    {
     "data":{
      "text\/plain":[
       "1"
      ]
     },
     "metadata":{
      
     },
     "output_type":"display_data"
    }
   ],
   "metadata":{
    "datalore":{
     "node_id":"TGFGnJf4CUhjl17HrxO9hD",
     "type":"CODE",
     "hide_input_from_viewers":true,
     "hide_output_from_viewers":true
    }
   }
  },
  {
   "cell_type":"markdown",
   "source":[
    "# Practice"
   ],
   "attachments":{
    
   },
   "metadata":{
    "datalore":{
     "node_id":"hWbyfdtOjEX9nmqqV04vP7",
     "type":"MD",
     "hide_input_from_viewers":true,
     "hide_output_from_viewers":true
    }
   }
  },
  {
   "cell_type":"markdown",
   "source":[
    "**WAP to input user's first name & print its length.**"
   ],
   "attachments":{
    
   },
   "metadata":{
    "datalore":{
     "node_id":"AOzezKWrd1T39quoGdQjEQ",
     "type":"MD",
     "hide_input_from_viewers":true,
     "hide_output_from_viewers":true
    }
   }
  },
  {
   "cell_type":"code",
   "source":[
    "user_1st_name = input(\"Enter your 1st name\")\n",
    "\n",
    "length_of_the_1st_name = len(user_1st_name)\n",
    "\n",
    "print(length_of_the_1st_name)"
   ],
   "execution_count":36,
   "outputs":[
    {
     "name":"stdout",
     "text":[
      "Enter your 1st name anik\n",
      "4\n"
     ],
     "output_type":"stream"
    }
   ],
   "metadata":{
    "datalore":{
     "node_id":"NUCpsGAMz2DICdYM8Ah9Nr",
     "type":"CODE",
     "hide_input_from_viewers":true,
     "hide_output_from_viewers":true
    }
   }
  },
  {
   "cell_type":"markdown",
   "source":[
    "**WAP to find the occurrence of '$' in a string.**"
   ],
   "attachments":{
    
   },
   "metadata":{
    "datalore":{
     "node_id":"usWszFtec2Fa8cQqtBorvO",
     "type":"MD",
     "hide_input_from_viewers":true,
     "hide_output_from_viewers":true
    }
   }
  },
  {
   "cell_type":"code",
   "source":[
    "str = \"Hi, $Im the $ symbol $99.99\"\n",
    "\n",
    "print(str.count(\"$\"))"
   ],
   "execution_count":37,
   "outputs":[
    {
     "name":"stdout",
     "text":[
      "3\n"
     ],
     "output_type":"stream"
    }
   ],
   "metadata":{
    "datalore":{
     "node_id":"yDdhnD4AzqFPNRUrgGsgLi",
     "type":"CODE",
     "hide_input_from_viewers":true,
     "hide_output_from_viewers":true
    }
   }
  },
  {
   "cell_type":"markdown",
   "source":[
    "# Conditional Statements"
   ],
   "attachments":{
    
   },
   "metadata":{
    "datalore":{
     "node_id":"U0xUSORv7mWQkQGKJzCOEs",
     "type":"MD",
     "hide_input_from_viewers":true,
     "hide_output_from_viewers":true
    }
   }
  },
  {
   "cell_type":"code",
   "source":[
    "age = 21\n",
    "\n",
    "if (age >= 18):\n",
    "    print(\"Can vote & apply for license\")\n",
    "    "
   ],
   "execution_count":38,
   "outputs":[
    {
     "name":"stdout",
     "text":[
      "Can vote & apply for license\n"
     ],
     "output_type":"stream"
    }
   ],
   "metadata":{
    "datalore":{
     "node_id":"XQpEmwe9bKIhfQjOXtSJAK",
     "type":"CODE",
     "hide_input_from_viewers":true,
     "hide_output_from_viewers":true
    }
   }
  },
  {
   "cell_type":"code",
   "source":[
    "light =\"green\"\n",
    "\n",
    "\n",
    "if (light == \"red\"):\n",
    "    print(\"stop\")\n",
    "elif (light == \"green\"):\n",
    "    print(\"go\")               # indentation\n",
    "elif (light == \"yellow\"):\n",
    "    print(\"look\")\n",
    "else:\n",
    "    print(\"Light is broken\")"
   ],
   "execution_count":39,
   "outputs":[
    {
     "name":"stdout",
     "text":[
      "go\n"
     ],
     "output_type":"stream"
    }
   ],
   "metadata":{
    "datalore":{
     "node_id":"JUEQ7yl0qcQXSnO0mPG60K",
     "type":"CODE",
     "hide_input_from_viewers":true,
     "hide_output_from_viewers":true
    }
   }
  },
  {
   "cell_type":"markdown",
   "source":[
    "# Practice\n",
    "\n",
    "**WAP to check if a number entered by the user is odd or even**"
   ],
   "attachments":{
    
   },
   "metadata":{
    "datalore":{
     "node_id":"3d7I2Y42SbLm5ahzzyOENk",
     "type":"MD",
     "hide_input_from_viewers":true,
     "hide_output_from_viewers":true
    }
   }
  },
  {
   "cell_type":"code",
   "source":[
    "num = int(input())\n",
    "\n",
    "if num % 2 == 0:\n",
    "    print(\"even\")\n",
    "\n",
    "else:\n",
    "    print(\"odd\")"
   ],
   "execution_count":40,
   "outputs":[
    {
     "name":"stdout",
     "text":[
      " 4\n",
      "even\n"
     ],
     "output_type":"stream"
    }
   ],
   "metadata":{
    "datalore":{
     "node_id":"rRxmXlv5Ep2eGnyQXVn1C4",
     "type":"CODE",
     "hide_input_from_viewers":true,
     "hide_output_from_viewers":true
    }
   }
  },
  {
   "cell_type":"markdown",
   "source":[
    "**WAP to find the greatest of 3 number entered by the user.**"
   ],
   "attachments":{
    
   },
   "metadata":{
    "datalore":{
     "node_id":"DbxJEeVS0Dx6GvQ212xDsT",
     "type":"MD",
     "hide_input_from_viewers":true,
     "hide_output_from_viewers":true
    }
   }
  },
  {
   "cell_type":"code",
   "source":[
    "num1 = int(input())\n",
    "num2 = int(input())\n",
    "num3 = int(input())\n",
    "\n",
    "\n",
    "if num1>num2>num3:\n",
    "    print(\"num1 is greater than other.\")\n",
    "elif num2>num1>num3:\n",
    "    print(\"num2 is greater than other.\")\n",
    "else:\n",
    "    print(\"num3 is greater than other.\")"
   ],
   "execution_count":41,
   "outputs":[
    {
     "name":"stdout",
     "text":[
      " 5\n",
      " 3\n",
      " 7\n",
      "num3 is greater than other.\n"
     ],
     "output_type":"stream"
    }
   ],
   "metadata":{
    "datalore":{
     "node_id":"pN0Hb7Ajb7M9fkm94AUUm4",
     "type":"CODE",
     "hide_input_from_viewers":true,
     "hide_output_from_viewers":true
    }
   }
  },
  {
   "cell_type":"markdown",
   "source":[
    "**WAP to check if a number is a multiple of 7 or not.**"
   ],
   "attachments":{
    
   },
   "metadata":{
    "datalore":{
     "node_id":"Kd7ggFR0eGrnnHWf3WpM3d",
     "type":"MD",
     "hide_input_from_viewers":true,
     "hide_output_from_viewers":true
    }
   }
  },
  {
   "cell_type":"code",
   "source":[
    "num = int(input())\n",
    "\n",
    "if num % 7 == 0:\n",
    "    print(\"Multile of 7\")\n",
    "else:\n",
    "    print(\"Not multiple of 7\")"
   ],
   "execution_count":44,
   "outputs":[
    {
     "name":"stdout",
     "text":[
      " 1\n",
      "Not multiple of 7\n"
     ],
     "output_type":"stream"
    }
   ],
   "metadata":{
    "datalore":{
     "node_id":"KxAKcQYZ0rlJsXZAKPjTmd",
     "type":"CODE",
     "hide_input_from_viewers":true,
     "hide_output_from_viewers":true
    }
   }
  },
  {
   "cell_type":"code",
   "source":[
    
   ],
   "execution_count":0,
   "outputs":[
    
   ],
   "metadata":{
    "datalore":{
     "node_id":"jTxkeTjMYZsKwtXuSuFCun",
     "type":"CODE",
     "hide_input_from_viewers":true,
     "hide_output_from_viewers":true
    }
   }
  },
  {
   "cell_type":"code",
   "source":[
    
   ],
   "execution_count":null,
   "outputs":[
    
   ],
   "metadata":{
    "datalore":{
     "node_id":"SQiRBrlMekXshK7FaE0QoR",
     "type":"CODE",
     "hide_input_from_viewers":true,
     "hide_output_from_viewers":true
    }
   }
  }
 ],
 "metadata":{
  "kernelspec":{
   "display_name":"Python",
   "language":"python",
   "name":"python"
  },
  "datalore":{
   "computation_mode":"JUPYTER",
   "package_manager":"pip",
   "base_environment":"default",
   "packages":[
    
   ],
   "report_row_ids":[
    
   ],
   "version":3
  }
 },
 "nbformat":4,
 "nbformat_minor":4
}